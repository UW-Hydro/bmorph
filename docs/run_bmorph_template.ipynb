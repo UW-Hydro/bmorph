{
 "cells": [
  {
   "cell_type": "markdown",
   "metadata": {},
   "source": [
    "# `bmorph` Example Workflow Template\n",
    "This notebook demonstrates how to setup data for and bias correct it through **bmorph**, containing the same information as ``bmorph_tutorial.rst``."
   ]
  },
  {
   "cell_type": "markdown",
   "metadata": {},
   "source": [
    "## Import Packages and Load Data\n",
    "We will be using numpy, xarray, and pandas in this example notebook.\n",
    "Note: numpy can imported directly intsead of using magic, ``%pylab inline`` if desired. More on Built-in magic commands can be found [here](https://ipython.readthedocs.io/en/stable/interactive/magics.html)."
   ]
  },
  {
   "cell_type": "code",
   "execution_count": null,
   "metadata": {},
   "outputs": [],
   "source": [
    "%pylab inline\n",
    "import xarray as xr\n",
    "import pandas as pd"
   ]
  },
  {
   "cell_type": "markdown",
   "metadata": {},
   "source": [
    "We will mainly deal with ``bmorph.workflows``, our primary organizing script, but will also use ``bmorph.mizuroute_utils`` to pre-process your data for bmorph."
   ]
  },
  {
   "cell_type": "code",
   "execution_count": null,
   "metadata": {},
   "outputs": [],
   "source": [
    "import bmorph\n",
    "from bmorph.util import mizuroute_utils as mizutil"
   ]
  },
  {
   "cell_type": "markdown",
   "metadata": {},
   "source": [
    "Setting up a client for parallelism can help speed up the process\n",
    "of bias correction immensely, espeically if you are working with large numbers of\n",
    "watersheds. Calibrating which meterological variable you want to condition to can take\n",
    "some time, so parralelism is recommended in especially the initial uses of ``bmorph``."
   ]
  },
  {
   "cell_type": "code",
   "execution_count": null,
   "metadata": {},
   "outputs": [],
   "source": [
    "from dask.distributed import Client, progress"
   ]
  },
  {
   "cell_type": "markdown",
   "metadata": {},
   "source": [
    "In case you are just copying this over, the client is only set up with\n",
    "one thread and one worker to prevent accidentally overburdening any\n",
    "machine this is running on. If you actually want to use parallelism, \n",
    "make sure to change this!"
   ]
  },
  {
   "cell_type": "code",
   "execution_count": null,
   "metadata": {},
   "outputs": [],
   "source": [
    "client = Client(threads_per_worker=1, n_workers=1) #Increase for parallel power!!!"
   ]
  },
  {
   "cell_type": "markdown",
   "metadata": {},
   "source": [
    "Next you provide the gauge site names and their respective river segment identification\n",
    "numbers, or ``site``'s and ``seg``'s. This will be used throughout to ensure the data does\n",
    "not get mismatched."
   ]
  },
  {
   "cell_type": "code",
   "execution_count": null,
   "metadata": {},
   "outputs": [],
   "source": [
    "site_to_seg = { site_0_name : site_0_seg, ...} # Input this mapping or read it from a text file before running!"
   ]
  },
  {
   "cell_type": "markdown",
   "metadata": {},
   "source": [
    "Since it is nice to be able to access the data you just filled out without much struggle, here we create\n",
    "some other useful forms of these gauge site mappings for later use."
   ]
  },
  {
   "cell_type": "code",
   "execution_count": null,
   "metadata": {},
   "outputs": [],
   "source": [
    "seg_to_site = {seg: site for site, seg in site_to_seg.items()}\n",
    "ref_sites = list(site_to_seg.keys())\n",
    "ref_segs = list(site_to_seg.values())    "
   ]
  },
  {
   "cell_type": "markdown",
   "metadata": {},
   "source": [
    "Next we load in topographical data (topo), meterological data (met), \n",
    "uncorrected flows (raw), and reference flows (ref). Note that some\n",
    "fields have placeholder names that you should update before running.\n",
    "If some data is not accessible in a single function call, be sure to collapse\n",
    "it into a single file first before loading them. File designation calls assume\n",
    "this code is in a folder seperate from the data, but that this code's containing\n",
    "folder is at the same heirarchy as the folders containing the data. A description\n",
    "of how your project directory is expected to be set up can be found in ``data.rst``."
   ]
  },
  {
   "cell_type": "code",
   "execution_count": null,
   "metadata": {},
   "outputs": [],
   "source": [
    "basin_topo = xr.open_dataset('../topologies/basin_topology_file_name.nc').load()"
   ]
  },
  {
   "cell_type": "markdown",
   "metadata": {},
   "source": [
    "Sometimes meterological data may only be available for a larger region\n",
    "or watershed than anlayzing, so the following data will be described under such\n",
    "an assumption.\n",
    "    \n",
    "Here we load in some example meterological data: daily minimum temperature (tmin), seasonal precipitation (prec),\n",
    "and daily maximum temperature (tmax). You can use similar or completely different data, just note naming should be universally updated and unused names should be deleted or commented out completely."
   ]
  },
  {
   "cell_type": "code",
   "execution_count": null,
   "metadata": {},
   "outputs": [],
   "source": [
    "watershed_met = xr.open_dataset('../input/tmin.nc').load()\n",
    "watershed_met['seasonal_precip'] = xr.open_dataset('../input/prec.nc')['prec'].load().rolling(time=30, min_periods=1).sum()\n",
    "watershed_met['tmax'] = xr.open_dataset('../input/tmax.nc')['tmax'].load()"
   ]
  },
  {
   "cell_type": "markdown",
   "metadata": {},
   "source": [
    "Hydrualic response units (hru's) are the typical coordinate for meteorologic data. Later, mizuroute_utils\n",
    "will take care of mapping these hru's to seg's."
   ]
  },
  {
   "cell_type": "code",
   "execution_count": null,
   "metadata": {},
   "outputs": [],
   "source": [
    "watershed_met['hru'] = (watershed_met['hru'] - 1.7e7).astype(np.int32)"
   ]
  },
  {
   "cell_type": "markdown",
   "metadata": {},
   "source": [
    "And last not be certainly not least, we need the flows themselves! ``bmorph`` is designed to bias \n",
    "correct simulated streamflow as modeled by [mizuroute](https://mizuroute.readthedocs.io/en/latest/). As a result, loading\n",
    "up the raw flows involves combining a number of flow netcdf files, hence the ``open_mfdataset``."
   ]
  },
  {
   "cell_type": "code",
   "execution_count": null,
   "metadata": {},
   "outputs": [],
   "source": [
    "watershed_raw = xr.open_mfdataset('../input/first_route*.nc')[['IRFroutedRunoff', 'dlayRunoff', 'reachID']].load()\n",
    "watershed_raw['seg'] = watershed_raw.isel(time=0)['reachID'].astype(np.int32)\n",
    "watershed_ref = xr.open_dataset('../input/nrni_reference_flows.nc').load().rename({'outlet':'site'})[['seg', 'seg_id', 'reference_flow']]"
   ]
  },
  {
   "cell_type": "markdown",
   "metadata": {},
   "source": [
    "In order to select data for the basin of analysis from the larger watershed, we \n",
    "need the topology of the larger watershed as well."
   ]
  },
  {
   "cell_type": "code",
   "execution_count": null,
   "metadata": {},
   "outputs": [],
   "source": [
    "watershed_topo = xr.open_dataset('../topologies/watershed_topology_file_name.nc').load()\n",
    "watershed_topo = watershed_topo.where(watershed_topo['hru'] < 1.79e7, drop=True)"
   ]
  },
  {
   "cell_type": "markdown",
   "metadata": {},
   "source": [
    "Here we clean up a few naming conventions to get everything on the same page in accordance with ``data.rst``."
   ]
  },
  {
   "cell_type": "code",
   "execution_count": null,
   "metadata": {},
   "outputs": [],
   "source": [
    "if 'hru_id2' in basin_topo:\n",
    "    basin_topo['hru'] = basin_topo['hru_id2']\n",
    "if 'seg_id' in basin_topo:\n",
    "    basin_topo['seg'] = basin_topo['seg_id']"
   ]
  },
  {
   "cell_type": "markdown",
   "metadata": {},
   "source": [
    "## Convert ``mizuroute`` formatting to ``bmorph`` formatting\n",
    "\n",
    "``mizuroute_utils`` is our utility script that will handle converting\n",
    "Mizuroute outputs to what we need for ``bmorph``. For more information\n",
    "on what ``mizuroute_utils`` does specifically and how to change its \n",
    "parameters, check out ``data.rst``.\n",
    "\n",
    "Here we pull out coordinate data from the ovearching watershed\n",
    "for the specific basin we want to analyze."
   ]
  },
  {
   "cell_type": "code",
   "execution_count": null,
   "metadata": {},
   "outputs": [],
   "source": []
  }
 ],
 "metadata": {
  "kernelspec": {
   "display_name": "project",
   "language": "python",
   "name": "project"
  },
  "language_info": {
   "codemirror_mode": {
    "name": "ipython",
    "version": 3
   },
   "file_extension": ".py",
   "mimetype": "text/x-python",
   "name": "python",
   "nbconvert_exporter": "python",
   "pygments_lexer": "ipython3",
   "version": "3.7.5"
  }
 },
 "nbformat": 4,
 "nbformat_minor": 4
}
