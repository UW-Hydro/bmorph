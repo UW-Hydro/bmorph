{
 "cells": [
  {
   "cell_type": "markdown",
   "metadata": {},
   "source": [
    "# `bmorph` Example Workflow Template\n",
    "This notebook demonstrates how to setup data for and bias correct it through **bmorph**. ``bmorph_exaple_workflow.rst`` explains how this template works."
   ]
  },
  {
   "cell_type": "markdown",
   "metadata": {},
   "source": [
    "## Import Packages and Load Data"
   ]
  },
  {
   "cell_type": "code",
   "execution_count": null,
   "metadata": {},
   "outputs": [],
   "source": [
    "%pylab inline\n",
    "import xarray as xr\n",
    "import pandas as pd\n",
    "import bmorph\n",
    "from bmorph.util import mizuroute_utils as mizutil\n",
    "from dask.distributed import Client, progress\n",
    "\n",
    "xr.set_options(display_style='html') # this is just to make viewing our data nicer"
   ]
  },
  {
   "cell_type": "code",
   "execution_count": null,
   "metadata": {},
   "outputs": [],
   "source": [
    "client = Client(threads_per_worker=1, n_workers=1)"
   ]
  },
  {
   "cell_type": "code",
   "execution_count": null,
   "metadata": {},
   "outputs": [],
   "source": [
    "site_to_seg = { site_0_name : site_0_seg, ...} # Input this mapping or read it from a text file before running!\n",
    "\n",
    "seg_to_site = {seg: site for site, seg in site_to_seg.items()}\n",
    "ref_sites = list(site_to_seg.keys())\n",
    "ref_segs = list(site_to_seg.values())\n",
    "\n",
    "basin_topo = xr.open_dataset('../topologies/basin_topology_file_name.nc').load()\n",
    "\n",
    "watershed_met = xr.open_dataset('../input/tmin.nc').load()\n",
    "watershed_met['seasonal_precip'] = xr.open_dataset('../input/prec.nc')['prec'].load().rolling(time=30, min_periods=1).sum()\n",
    "watershed_met['tmax'] = xr.open_dataset('../input/tmax.nc')['tmax'].load()\n",
    "watershed_met['hru'] = (watershed_met['hru'] - 1.7e7).astype(np.int32)\n",
    "watershed_raw = xr.open_mfdataset('../input/first_route*.nc')[['IRFroutedRunoff', 'dlayRunoff', 'reachID']].load()\n",
    "watershed_raw['seg'] = watershed_raw.isel(time=0)['reachID'].astype(np.int32)\n",
    "\n",
    "watershed_ref = xr.open_dataset('../input/..').load().rename({'outlet':'site'})[['seg', 'seg_id', 'reference_flow']]\n",
    "\n",
    "watershed_topo = xr.open_dataset('../topologies/watershed_topology_file_name.nc').load()\n",
    "watershed_topo = watershed_topo.where(watershed_topo['hru'] < 1.79e7, drop=True)\n",
    "\n",
    "if 'hru_id2' in basin_topo:\n",
    "    basin_topo['hru'] = basin_topo['hru_id2']\n",
    "if 'seg_id' in basin_topo:\n",
    "    basin_topo['seg'] = basin_topo['seg_id']"
   ]
  },
  {
   "cell_type": "markdown",
   "metadata": {},
   "source": [
    "## Convert `mizuroute` formatting to `bmorph` formatting"
   ]
  },
  {
   "cell_type": "code",
   "execution_count": null,
   "metadata": {},
   "outputs": [],
   "source": [
    "basin_ref = watershed_ref.sel(site=[r for r in ref_sites])\n",
    "\n",
    "for site, seg in site_to_seg.items():\n",
    "    if site in basin_ref['site']:\n",
    "        basin_ref['seg'].loc[{'site': site}] = seg\n",
    "\n",
    "# `mizuroute_to_blendmorph` is a utility function that automates\n",
    "# the preprocessing for bmorph\n",
    "basin_met_seg = mizutil.mizuroute_to_blendmorph(\n",
    "    basin_topo, watershed_raw.copy(), basin_ref, watershed_met, \n",
    "    fill_method='r2').ffill(dim='seg')"
   ]
  },
  {
   "cell_type": "markdown",
   "metadata": {},
   "source": [
    "## Apply `bmorph` bias correction"
   ]
  },
  {
   "cell_type": "code",
   "execution_count": null,
   "metadata": {},
   "outputs": [],
   "source": [
    "train_window = pd.date_range('1981-01-01', '1990-12-30')[[0, -1]]\n",
    "bmorph_window = pd.date_range('1991-01-01', '2005-12-30')[[0, -1]]\n",
    "reference_window = train_window\n",
    "\n",
    "interval = pd.DateOffset(years=1)\n",
    "overlap = 90\n",
    "#condition_var = 'tmax'\n",
    "#condition_var = 'seasonal_precip'\n",
    "condition_var = 'tmin'\n",
    "\n",
    "conditonal_config = {\n",
    "    'train_window': train_window,\n",
    "    'bmorph_window': bmorph_window,\n",
    "    'reference_window': reference_window,\n",
    "    'bmorph_interval': interval,\n",
    "    'bmorph_overlap': overlap,\n",
    "    'condition_var': condition_var\n",
    "}\n",
    "\n",
    "univariate_config = {\n",
    "    'train_window': train_window,\n",
    "    'bmorph_window': bmorph_window,\n",
    "    'reference_window': reference_window,\n",
    "    'bmorph_interval': interval,\n",
    "    'bmorph_overlap': overlap,\n",
    "}"
   ]
  },
  {
   "cell_type": "code",
   "execution_count": null,
   "metadata": {},
   "outputs": [],
   "source": [
    "ibc_u_flows = {}\n",
    "ibc_u_mults = {}\n",
    "ibc_c_flows = {}\n",
    "ibc_c_mults = {}\n",
    "\n",
    "raw_flows = {}\n",
    "ref_flows = {}\n",
    "\n",
    "for site, seg in site_to_seg.items():\n",
    "    raw_ts = basin_met_seg.sel(seg=seg)['IRFroutedRunoff'].to_series()\n",
    "    train_ts = basin_met_seg.sel(seg=seg)['IRFroutedRunoff'].to_series()\n",
    "    obs_ts = basin_met_seg.sel(seg=seg)['up_ref_flow'].to_series()\n",
    "    cond_var = basin_met_seg.sel(seg=seg)[f'up_{condition_var}'].to_series()\n",
    "    ref_flows[site] = obs_ts\n",
    "    raw_flows[site] = raw_ts\n",
    "    \n",
    "    ## IBC_U\n",
    "    ibc_u_flows[site], ibc_u_mults[site] = bmorph.workflows.apply_interval_bmorph(\n",
    "        raw_ts, train_ts, obs_ts, train_window, bmorph_window, reference_window, interval, overlap)\n",
    "    \n",
    "    ## IBC_C\n",
    "    ibc_c_flows[site], ibc_c_mults[site] = bmorph.workflows.apply_interval_bmorph(\n",
    "        raw_ts, train_ts, obs_ts, train_window, bmorph_window, reference_window, interval, overlap,\n",
    "        raw_y=cond_var, train_y=cond_var, obs_y=cond_var)"
   ]
  },
  {
   "cell_type": "code",
   "execution_count": null,
   "metadata": {},
   "outputs": [],
   "source": [
    "mizuroute_exe = # mizuroute designation\n",
    "\n",
    "unconditioned_totals = {}\n",
    "conditioned_totals = {}\n",
    "region = # basin name\n",
    "\n",
    "unconditioned_totals = bmorph.workflows.run_parallel_scbc(basin_met_seg, client, region, mizuroute_exe, univariate_config)\n",
    "conditioned_totals = bmorph.workflows.run_parallel_scbc(basin_met_seg, client, region, mizuroute_exe, conditonal_config)\n",
    "for site, seg in site_to_seg.items():\n",
    "    unconditioned_totals[site] = unconditioned_totals['IRFroutedRunoff'].sel(seg=seg)\n",
    "    conditioned_totals[site] = conditioned_totals['IRFroutedRunoff'].sel(seg=seg)"
   ]
  },
  {
   "cell_type": "code",
   "execution_count": null,
   "metadata": {},
   "outputs": [],
   "source": [
    "scbc_c = bmorph.workflows.bmorph_to_dataarray(conditioned_totals, 'scbc_c')\n",
    "basin_analysis = xr.Dataset(coords={'site': list(site_to_seg.keys()), 'time': scbc_c['time']})\n",
    "basin_analysis['scbc_c'] = scbc_c\n",
    "basin_analysis['scbc_u'] = bmorph.workflows.bmorph_to_dataarray(unconditioned_totas, 'scbc_u')\n",
    "basin_analysis['ibc_u'] = bmorph.workflows.bmorph_to_dataarray(ibc_u_flows, 'ibc_u')\n",
    "basin_analysis['ibc_c'] = bmorph.workflows.bmorph_to_dataarray(ibc_c_flows, 'ibc_c')\n",
    "basin_analysis['raw'] = bmorph.workflows.bmorph_to_dataarray(raw_flows, 'raw')\n",
    "basin_analysis['ref'] = bmorph.workflows.bmorph_to_dataarray(ref_flows, 'ref')\n",
    "basin_analysis.to_netcdf(f'../output/{region.lower()}_data_processed.nc')"
   ]
  }
 ],
 "metadata": {
  "kernelspec": {
   "display_name": "project",
   "language": "python",
   "name": "project"
  },
  "language_info": {
   "codemirror_mode": {
    "name": "ipython",
    "version": 3
   },
   "file_extension": ".py",
   "mimetype": "text/x-python",
   "name": "python",
   "nbconvert_exporter": "python",
   "pygments_lexer": "ipython3",
   "version": "3.7.5"
  }
 },
 "nbformat": 4,
 "nbformat_minor": 4
}
